{
 "cells": [
  {
   "cell_type": "code",
   "execution_count": null,
   "metadata": {},
   "outputs": [],
   "source": [
    "import pandas as pd\n",
    "import numpy as np\n",
    "from fastparquet import ParquetFile\n",
    "\n",
    "VITAL_DATA_PATH = \"./IMPALA_Clinical_Data/Clean Data/Vital Signs Data/df_merged.parquet\""
   ]
  },
  {
   "cell_type": "code",
   "execution_count": null,
   "metadata": {},
   "outputs": [],
   "source": [
    "\n",
    "def read_vital_data(path):\n",
    "    \"\"\" Read vital sign data from Parquet file and convert it to Pandas DataFrame. \"\"\"\n",
    "    pf = ParquetFile(path)\n",
    "    df = pf.to_pandas()\n",
    "    return df\n"
   ]
  },
  {
   "cell_type": "code",
   "execution_count": null,
   "metadata": {},
   "outputs": [],
   "source": [
    "\n",
    "vital_df = read_vital_data(VITAL_DATA_PATH)\n",
    "\n",
    "# Convert to more specific datetime\n",
    "vital_df.index = pd.to_datetime(vital_df.index)\n",
    "vital_df.index = [t if not pd.isna(t) else vital_df.index[i] \\\n",
    "                  for i, t in enumerate(vital_df['dly_time'])]\n",
    "\n",
    "display(vital_df['dly_time'])\n"
   ]
  }
 ],
 "metadata": {
  "kernelspec": {
   "display_name": "thesis",
   "language": "python",
   "name": "python3"
  },
  "language_info": {
   "codemirror_mode": {
    "name": "ipython",
    "version": 3
   },
   "file_extension": ".py",
   "mimetype": "text/x-python",
   "name": "python",
   "nbconvert_exporter": "python",
   "pygments_lexer": "ipython3",
   "version": "3.10.12"
  }
 },
 "nbformat": 4,
 "nbformat_minor": 2
}
