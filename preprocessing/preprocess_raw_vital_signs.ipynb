{
 "cells": [
  {
   "cell_type": "code",
   "execution_count": null,
   "metadata": {},
   "outputs": [],
   "source": [
    "import pandas as pd\n",
    "import numpy as np\n",
    "from dateutil.rrule import rrule, SECONDLY, MINUTELY, HOURLY\n",
    "import warnings\n",
    "\n",
    "from heart_rate_variability import apply_hrv\n",
    "from load_raw_vital_signs import *\n",
    "from datasets import create_dataloaders\n",
    "from preprocess_outputs import preprocess_crt_avpu\n",
    "\n",
    "RAW_VITAL_DATA_PATH = \"./../DATA/Raw Data/filtered_df_removed_nan_files.parquet\"\n",
    "CLINICAL_DATA_PATH = \"./../DATA/Clean Data/IMPALA_Clinical_Data_202308211019_Raw.csv\"\n",
    "PROCESSED_RAW_VITAL_SIGN_DATA_PATH = \"./../DATA/Raw Data/raw_patient_dict_p30\""
   ]
  },
  {
   "cell_type": "markdown",
   "metadata": {},
   "source": [
    "### Load data"
   ]
  },
  {
   "cell_type": "code",
   "execution_count": null,
   "metadata": {},
   "outputs": [],
   "source": [
    "\n",
    "data = load_patient_dict(PROCESSED_RAW_VITAL_SIGN_DATA_PATH)\n",
    "print(data.keys())\n"
   ]
  },
  {
   "cell_type": "markdown",
   "metadata": {},
   "source": [
    "### Split data into windows"
   ]
  },
  {
   "cell_type": "code",
   "execution_count": null,
   "metadata": {},
   "outputs": [],
   "source": [
    "\n",
    "def split_data_into_window(df, time_unit='m', time_freq=15):\n",
    "    \"\"\"\n",
    "    Split the data into windows.\n",
    "    :param df: Pandas DataFrame containing the data indexed on timestamps.\n",
    "    :param time_unit: time unit of the data window, e.g. s (seconds), m (minutes).\n",
    "    :param time_freq: number of time units in the data window.\n",
    "    \"\"\"\n",
    "\n",
    "    df = df.copy()\n",
    "\n",
    "    rrule_time = {'h' : HOURLY, 'm' : MINUTELY, 's' : SECONDLY}\n",
    "    windows = []\n",
    "    datetimes = []\n",
    "    num_features = df.shape[1]\n",
    "\n",
    "    for start in rrule(freq=rrule_time[time_unit], interval=time_freq,\n",
    "                       dtstart=df['datetime'].iloc[0], until=df['datetime'].iloc[-1]):\n",
    "        \n",
    "        # Select window\n",
    "        end = start + pd.Timedelta(time_freq, unit=time_unit)\n",
    "        idx = df['datetime'].between(start, end)\n",
    "        window = df[idx]\n",
    "\n",
    "        if window.size > 0:\n",
    "            # From datetime only keep hours\n",
    "            window.loc[:, 'datetime'] = window.loc[:, 'datetime'].dt.hour\n",
    "\n",
    "            # Save windows and timepoints seperately\n",
    "            windows.append(window.values)\n",
    "            datetimes.append(df[idx]['datetime'].iloc[0])\n",
    "\n",
    "        else: # If no data in time window, still add empty window\n",
    "            window = np.empty((1, num_features))\n",
    "            window.fill(np.float64('nan'))\n",
    "            window[0, -1] = end.hour\n",
    "\n",
    "            # Save windows and timepoints seperately\n",
    "            windows.append(window)\n",
    "            datetimes.append(start)\n",
    "\n",
    "    return windows, np.array(datetimes)\n"
   ]
  },
  {
   "cell_type": "code",
   "execution_count": null,
   "metadata": {},
   "outputs": [],
   "source": [
    "\n",
    "df = data['Z-H-0120'].drop(['patient_id', 'location'], axis=1)\n",
    "df = df.sort_values('datetime')\n",
    "\n",
    "windows, datetimes = split_data_into_window(df, time_unit='m', time_freq=15)\n",
    "\n",
    "del df\n"
   ]
  },
  {
   "cell_type": "markdown",
   "metadata": {},
   "source": [
    "### Aggregate data windows, calculate HRV and add patient's age"
   ]
  },
  {
   "cell_type": "code",
   "execution_count": null,
   "metadata": {},
   "outputs": [],
   "source": [
    "\n",
    "# Vital signs: ECGHR,      ECGRR,      SPO2HR,    SPO2,\n",
    "#              NIBP_lower, NIBP_upper, NIBP_mean, datetime\n",
    "\n",
    "def aggregate_windows(windows):\n",
    "    \"\"\"\n",
    "    Aggregate vital signs.\n",
    "\n",
    "    Suppress 'Mean of empty slice' or 'All-NaN slice encountered' warnings as\n",
    "    these are dealt with manually.\n",
    "    \"\"\"\n",
    "\n",
    "    with warnings.catch_warnings():\n",
    "        warnings.simplefilter(\"ignore\", category=RuntimeWarning)\n",
    "\n",
    "        # Calculate mean, min, max and std of the first four features\n",
    "        mean_ = np.array([np.nanmean(a[:, :4], axis=0) for a in windows])\n",
    "        min_ = np.array([np.nanmin(a[:, :4], axis=0) for a in windows])\n",
    "        max_ = np.array([np.nanmax(a[:, :4], axis=0) for a in windows])\n",
    "        std_ = np.array([np.nanstd(a[:, :4], axis=0) for a in windows])\n",
    "\n",
    "    # Replace NaN values with -999\n",
    "    mean_ = np.where(np.isnan(mean_), -999, mean_)\n",
    "    min_ = np.where(np.isnan(min_), -999, min_)\n",
    "    max_ = np.where(np.isnan(max_), -999, max_)\n",
    "    std_ = np.where(np.isnan(std_), -999, std_)\n",
    "\n",
    "    # Choose latest valid entries of last four features\n",
    "    other_features = []\n",
    "    for i, w in enumerate(windows):\n",
    "\n",
    "        current_window = []\n",
    "        bool_labels = np.where(np.isnan(w[:, 4:]), -999, w[:, 4:]) >= 0\n",
    "\n",
    "        for i in range(4):\n",
    "            valid_entries = w[:, i+4][bool_labels[:, i]]\n",
    "            current_window.append(valid_entries[-1] if valid_entries.size > 0 else -999)\n",
    "\n",
    "        other_features.append(current_window)\n",
    "    \n",
    "    other_features = np.array(other_features)\n",
    "\n",
    "    return np.concatenate([mean_, min_, max_, std_, other_features], axis=1)\n",
    "\n",
    "\n",
    "def get_age_in_months(path):\n",
    "    \"\"\"\n",
    "    Create a dictionary of all patients with corresponding age in months.\n",
    "\n",
    "    :param path: string containing path to the clincal data.\n",
    "    \"\"\"\n",
    "\n",
    "    df = pd.read_csv(path, low_memory=False, usecols=['record_id', 'recru_age_months'])\n",
    "\n",
    "    return {record_id : values['recru_age_months'].iloc[0] for \\\n",
    "            record_id, values in df.groupby('record_id')}\n"
   ]
  },
  {
   "cell_type": "code",
   "execution_count": null,
   "metadata": {},
   "outputs": [],
   "source": [
    "\n",
    "age_dict = get_age_in_months(CLINICAL_DATA_PATH)\n",
    "\n",
    "agg_data = aggregate_windows(windows)\n",
    "print(agg_data.shape)\n",
    "\n",
    "hrv_data = apply_hrv(windows, return_features=['lfnu'])\n",
    "print(hrv_data.shape)\n",
    "\n",
    "age_data = (np.ones((agg_data.shape[0], 1)) * age_dict['Z-H-0120'])\n",
    "print(age_data.shape)\n",
    "\n",
    "new_data = np.concatenate((agg_data, hrv_data, age_data), axis=1)\n",
    "print(new_data.shape)\n",
    "\n"
   ]
  },
  {
   "cell_type": "markdown",
   "metadata": {},
   "source": [
    "### Apply sliding window"
   ]
  },
  {
   "cell_type": "code",
   "execution_count": null,
   "metadata": {},
   "outputs": [],
   "source": [
    "\n",
    "def sliding_window_backward(data, outputs, datetimes, sample_window_hours):\n",
    "    \"\"\"\n",
    "    Apply a sliding window over the given data. If a window is too long, the first\n",
    "    entries are discarded. If a window is too short it is discarded completely.\n",
    "\n",
    "    :param data: NumPy Array containing the aggregated vital sign windows.\n",
    "    :param datetimes: List containing the starting times for each window.\n",
    "    :param outputs: Pandas Dataframe containing CRT and AVPU values per time.\n",
    "    \"\"\"\n",
    "\n",
    "    X, y = [], []\n",
    "\n",
    "    datetimes = pd.Series(datetimes, name='time')\n",
    "\n",
    "    for end in datetimes[::-1]:\n",
    "\n",
    "        start = end - pd.Timedelta(sample_window_hours, unit='h')\n",
    "        idx = datetimes.between(start, end)\n",
    "        window = data[idx]\n",
    "\n",
    "\n",
    "        if window.shape[0] < sample_window_hours * 4:\n",
    "            continue\n",
    "\n",
    "        elif window.shape[0] > sample_window_hours * 4: # Remove first entry\n",
    "            window = window[-sample_window_hours*4:]        \n",
    "\n",
    "        # Choose output that is nearest to the end time of the window\n",
    "        nearest_output_idx = np.argmin([abs(end - t) for t in outputs.index])\n",
    "\n",
    "        X.append(window.T)\n",
    "        y.append(outputs.iloc[nearest_output_idx].values)\n",
    "        \n",
    "    \n",
    "    X = np.array(X) # Shape: samples, dimensions, time\n",
    "    y = np.array(y) # Shape: samples, dimensions\n",
    "\n",
    "    return X, y\n"
   ]
  },
  {
   "cell_type": "code",
   "execution_count": null,
   "metadata": {},
   "outputs": [],
   "source": [
    "\n",
    "outputs = preprocess_crt_avpu(CLINICAL_DATA_PATH)\n",
    "X, y = sliding_window_backward(new_data, outputs['Z-H-0120'], datetimes, 4)\n"
   ]
  },
  {
   "cell_type": "markdown",
   "metadata": {},
   "source": [
    "### Turn data to PyTorch dataloaders"
   ]
  },
  {
   "cell_type": "code",
   "execution_count": null,
   "metadata": {},
   "outputs": [],
   "source": [
    "\n",
    "train_dataloader, val_dataloader, test_dataloader = \\\n",
    "    create_dataloaders(X, y, batch_size=32, seed=42)\n"
   ]
  }
 ],
 "metadata": {
  "kernelspec": {
   "display_name": "thesis",
   "language": "python",
   "name": "python3"
  },
  "language_info": {
   "codemirror_mode": {
    "name": "ipython",
    "version": 3
   },
   "file_extension": ".py",
   "mimetype": "text/x-python",
   "name": "python",
   "nbconvert_exporter": "python",
   "pygments_lexer": "ipython3",
   "version": "3.10.12"
  }
 },
 "nbformat": 4,
 "nbformat_minor": 2
}
